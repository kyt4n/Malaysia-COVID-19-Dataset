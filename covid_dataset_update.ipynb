{
  "nbformat": 4,
  "nbformat_minor": 0,
  "metadata": {
    "colab": {
      "name": "covid dataset update.ipynb",
      "provenance": [],
      "collapsed_sections": [],
      "mount_file_id": "1d6N9jisHikF8Fc2eYYx-uUd10JsNTKCe",
      "authorship_tag": "ABX9TyPOYukhDItHkw8GII2rHfVi",
      "include_colab_link": true
    },
    "kernelspec": {
      "name": "python3",
      "display_name": "Python 3"
    },
    "language_info": {
      "name": "python"
    }
  },
  "cells": [
    {
      "cell_type": "markdown",
      "metadata": {
        "id": "view-in-github",
        "colab_type": "text"
      },
      "source": [
        "<a href=\"https://colab.research.google.com/github/kyt4n/Malaysia-COVID-19-Dataset/blob/main/covid_dataset_update.ipynb\" target=\"_parent\"><img src=\"https://colab.research.google.com/assets/colab-badge.svg\" alt=\"Open In Colab\"/></a>"
      ]
    },
    {
      "cell_type": "markdown",
      "metadata": {
        "id": "OluXWrhhDMnM"
      },
      "source": [
        "# Update Case Data"
      ]
    },
    {
      "cell_type": "code",
      "metadata": {
        "id": "k_CRH9OIDjZB"
      },
      "source": [
        "!pip install --upgrade -q gspread "
      ],
      "execution_count": null,
      "outputs": []
    },
    {
      "cell_type": "code",
      "metadata": {
        "id": "HnQz-nFzapad"
      },
      "source": [
        "# import os\n",
        "# os.kill(os.getpid(), 9)"
      ],
      "execution_count": null,
      "outputs": []
    },
    {
      "cell_type": "code",
      "metadata": {
        "id": "PwIJRz3xDgGU"
      },
      "source": [
        "import json\n",
        "import tweepy\n",
        "import pandas as pd\n",
        "import re\n",
        "\n",
        "with open(\"twitter_creds.json\", \"r\") as file:\n",
        "  creds = json.load(file)\n",
        "\n",
        "auth = tweepy.OAuthHandler(creds['api_key'], creds['api_sec'])\n",
        "auth.set_access_token(creds['access_token'], creds['access_sec'])\n",
        "api = tweepy.API(auth, wait_on_rate_limit=True)\n",
        "\n",
        "username = '@DGHisham'\n",
        "count = 300\n",
        "tweet_id = '1418525491049361411'\n",
        "\n",
        "tweets = tweepy.Cursor(api.user_timeline,id=username, tweet_mode=\"extended\", since_id = tweet_id,\n",
        "                       include_rts=False, exclude_replies=True).items(count)\n",
        "tweets_lst = [[tweet.created_at, tweet.full_text.replace('\\n', ' '), tweet.id] for tweet in tweets]\n",
        "\n",
        "cols = \"date text tweet_id\".split()\n",
        "tweets_df = pd.DataFrame(tweets_lst, columns=cols)"
      ],
      "execution_count": null,
      "outputs": []
    },
    {
      "cell_type": "code",
      "metadata": {
        "colab": {
          "base_uri": "https://localhost:8080/",
          "height": 173
        },
        "id": "P4tsyCbNcbnp",
        "outputId": "4f7bd35d-ef07-4874-92a4-7576f980b98e"
      },
      "source": [
        "tweets_df.head(4).append(tweets_df.tail(4))"
      ],
      "execution_count": null,
      "outputs": [
        {
          "output_type": "execute_result",
          "data": {
            "text/html": [
              "<div>\n",
              "<style scoped>\n",
              "    .dataframe tbody tr th:only-of-type {\n",
              "        vertical-align: middle;\n",
              "    }\n",
              "\n",
              "    .dataframe tbody tr th {\n",
              "        vertical-align: top;\n",
              "    }\n",
              "\n",
              "    .dataframe thead th {\n",
              "        text-align: right;\n",
              "    }\n",
              "</style>\n",
              "<table border=\"1\" class=\"dataframe\">\n",
              "  <thead>\n",
              "    <tr style=\"text-align: right;\">\n",
              "      <th></th>\n",
              "      <th>date</th>\n",
              "      <th>text</th>\n",
              "      <th>tweet_id</th>\n",
              "    </tr>\n",
              "  </thead>\n",
              "  <tbody>\n",
              "    <tr>\n",
              "      <th>0</th>\n",
              "      <td>2021-07-25 11:05:37</td>\n",
              "      <td>Kenyataan Akhbar KPK 25 Julai 2021 – Situasi S...</td>\n",
              "      <td>1419252493377232899</td>\n",
              "    </tr>\n",
              "    <tr>\n",
              "      <th>1</th>\n",
              "      <td>2021-07-25 10:51:50</td>\n",
              "      <td>COVID-19: 25 Julai 2021  J kes sembuh:9,683 J ...</td>\n",
              "      <td>1419249023509098497</td>\n",
              "    </tr>\n",
              "    <tr>\n",
              "      <th>0</th>\n",
              "      <td>2021-07-25 11:05:37</td>\n",
              "      <td>Kenyataan Akhbar KPK 25 Julai 2021 – Situasi S...</td>\n",
              "      <td>1419252493377232899</td>\n",
              "    </tr>\n",
              "    <tr>\n",
              "      <th>1</th>\n",
              "      <td>2021-07-25 10:51:50</td>\n",
              "      <td>COVID-19: 25 Julai 2021  J kes sembuh:9,683 J ...</td>\n",
              "      <td>1419249023509098497</td>\n",
              "    </tr>\n",
              "  </tbody>\n",
              "</table>\n",
              "</div>"
            ],
            "text/plain": [
              "                 date  ...             tweet_id\n",
              "0 2021-07-25 11:05:37  ...  1419252493377232899\n",
              "1 2021-07-25 10:51:50  ...  1419249023509098497\n",
              "0 2021-07-25 11:05:37  ...  1419252493377232899\n",
              "1 2021-07-25 10:51:50  ...  1419249023509098497\n",
              "\n",
              "[4 rows x 3 columns]"
            ]
          },
          "metadata": {
            "tags": []
          },
          "execution_count": 3
        }
      ]
    },
    {
      "cell_type": "code",
      "metadata": {
        "id": "92ox8qa3cnHV"
      },
      "source": [
        "bool_rel_idx = tweets_df.text.str.contains('terkini covid|^COVID-19[:;]', regex=True, case=False)\n",
        "bool_nonrel_idx = tweets_df.text.str.contains('negeri|kluster|vaccin|vaksin', regex=True, case=False)\n",
        "tweets_df = tweets_df[bool_rel_idx]\n",
        "tweets_df = tweets_df.loc[~bool_nonrel_idx, :]    # without copying   # ~ invert boolean, subset exclude [non relevant rows idx] [false]\n",
        "\n",
        "tweets_df = tweets_df[::-1].reset_index(drop=True)     # reorder rows, reset index\n",
        "#tweets_df['date'] = pd.to_datetime(tweets_df['date']).dt.date\n",
        "tweets_df['date'] = pd.to_datetime(tweets_df['date'].dt.date)\n",
        "tweets_df[['text','link']] = tweets_df['text'].str.split('https://', expand=True)"
      ],
      "execution_count": null,
      "outputs": []
    },
    {
      "cell_type": "code",
      "metadata": {
        "id": "YYd68eLysMQl"
      },
      "source": [
        "# tweets_df['text'].iloc[0]"
      ],
      "execution_count": null,
      "outputs": []
    },
    {
      "cell_type": "code",
      "metadata": {
        "colab": {
          "base_uri": "https://localhost:8080/",
          "height": 80
        },
        "id": "2_yb66GvcqkX",
        "outputId": "ba1a22e4-df6d-4789-a0ec-61cee2ee67a6"
      },
      "source": [
        "tweets_df"
      ],
      "execution_count": null,
      "outputs": [
        {
          "output_type": "execute_result",
          "data": {
            "text/html": [
              "<div>\n",
              "<style scoped>\n",
              "    .dataframe tbody tr th:only-of-type {\n",
              "        vertical-align: middle;\n",
              "    }\n",
              "\n",
              "    .dataframe tbody tr th {\n",
              "        vertical-align: top;\n",
              "    }\n",
              "\n",
              "    .dataframe thead th {\n",
              "        text-align: right;\n",
              "    }\n",
              "</style>\n",
              "<table border=\"1\" class=\"dataframe\">\n",
              "  <thead>\n",
              "    <tr style=\"text-align: right;\">\n",
              "      <th></th>\n",
              "      <th>date</th>\n",
              "      <th>text</th>\n",
              "      <th>tweet_id</th>\n",
              "      <th>link</th>\n",
              "    </tr>\n",
              "  </thead>\n",
              "  <tbody>\n",
              "    <tr>\n",
              "      <th>0</th>\n",
              "      <td>2021-07-25</td>\n",
              "      <td>COVID-19: 25 Julai 2021  J kes sembuh:9,683 J ...</td>\n",
              "      <td>1419249023509098497</td>\n",
              "      <td>t.co/t1ZtOUr683</td>\n",
              "    </tr>\n",
              "  </tbody>\n",
              "</table>\n",
              "</div>"
            ],
            "text/plain": [
              "        date  ...             link\n",
              "0 2021-07-25  ...  t.co/t1ZtOUr683\n",
              "\n",
              "[1 rows x 4 columns]"
            ]
          },
          "metadata": {
            "tags": []
          },
          "execution_count": 6
        }
      ]
    },
    {
      "cell_type": "code",
      "metadata": {
        "id": "FytxY8nDDgGc"
      },
      "source": [
        "df_lst = []\n",
        "\n",
        "for i in range(len(tweets_df)):\n",
        "  text = tweets_df.loc[i,'text']\n",
        "  \n",
        "  tweet_lst = re.findall(r\"[0-9]+[,.]?[0-9]*[,.]?[0-9]*\", text)\n",
        "  col0_8_lst = tweet_lst[3:12]        # elemnt 4 until 12  # total 9  \n",
        "  col17_20_lst = tweet_lst[-4:]\n",
        "\n",
        "  importcase = re.search(r\"(import)(.*?)(J)\", text, re.IGNORECASE).group(0)                     # we only know something is in it\n",
        "  import_total = re.search(r\"[0-9]+\", importcase).group(0)                                      # get the first number  # total \n",
        "  if import_total != '0':                                                                       # if not 0 \n",
        "    import_wn_re = re.search(r\"([0-9]+)(?:\\s?)(?:WN)\", importcase, re.IGNORECASE)               # get WN value\n",
        "    import_bwn_re = re.search(r\"([0-9]+)(?:\\s?)(?:BWN)\", importcase, re.IGNORECASE)             # get BWN value\n",
        "    if import_wn_re is not None:                                                                 \n",
        "      import_wn = import_wn_re.group(1)\n",
        "      if import_bwn_re is None:\n",
        "        import_bwn = str(int(import_total) - int(import_wn))\n",
        "    if import_bwn_re is not None:\n",
        "      import_bwn = import_bwn_re.group(1)\n",
        "      if import_wn_re is None:\n",
        "        import_wn = str(int(import_total) - int(import_bwn)) \n",
        "    if import_wn_re == import_bwn_re == None:                                                   # if both dont exist, assign empty string\n",
        "      import_wn = import_bwn = '' \n",
        "  else: import_total = import_wn = import_bwn = '0'\n",
        "\n",
        "\n",
        "  maticase = re.search(r\"(mati|fataliti)(.*?)(J)\", text, re.IGNORECASE).group(0)                # we only know something is in it\n",
        "  mati_total = re.search(r\"[0-9]+\", maticase).group(0)                                          # get the first number  # total \n",
        "  if import_total != '0':                                                                       # if not 0 \n",
        "    mati_wn_re = re.search(r\"([0-9]+)(?:\\s?)(?:WN)\", maticase, re.IGNORECASE)\n",
        "    mati_bwn_re = re.search(r\"([0-9]+)(?:\\s?)(?:BWN)\", maticase, re.IGNORECASE)\n",
        "    if mati_wn_re is not None:\n",
        "      mati_wn = mati_wn_re.group(1)\n",
        "      if mati_bwn_re is None:\n",
        "        mati_bwn = str(int(mati_total) - int(mati_wn))\n",
        "    if mati_bwn_re is not None:\n",
        "      mati_bwn = mati_bwn_re.group(1)\n",
        "      if mati_wn_re is None:\n",
        "        mati_wn = str(int(mati_total) - int(mati_bwn)) \n",
        "    if mati_wn_re == mati_bwn_re == None:\n",
        "      mati_wn = mati_bwn = '' \n",
        "  else: mati_total = mati_wn = mati_bwn = '0'\n",
        "\n",
        "  col9_15_lst = [import_total, import_wn, import_bwn, mati_total, mati_wn, mati_bwn]\n",
        "\n",
        "  cols_lst = col0_8_lst + col9_15_lst + col17_20_lst\n",
        "  df_lst.append(cols_lst)"
      ],
      "execution_count": null,
      "outputs": []
    },
    {
      "cell_type": "code",
      "metadata": {
        "id": "VU7BGdW0DgGf",
        "colab": {
          "base_uri": "https://localhost:8080/",
          "height": 80
        },
        "outputId": "409b81be-fd1f-4947-9c71-04c28eba2de8"
      },
      "source": [
        "df = pd.DataFrame(df_lst)\n",
        "df.insert(0, 'date', tweets_df['date']) \n",
        "df['tweet_id'] = tweets_df['tweet_id']\n",
        "df['link'] = tweets_df['link']\n",
        "df"
      ],
      "execution_count": null,
      "outputs": [
        {
          "output_type": "execute_result",
          "data": {
            "text/html": [
              "<div>\n",
              "<style scoped>\n",
              "    .dataframe tbody tr th:only-of-type {\n",
              "        vertical-align: middle;\n",
              "    }\n",
              "\n",
              "    .dataframe tbody tr th {\n",
              "        vertical-align: top;\n",
              "    }\n",
              "\n",
              "    .dataframe thead th {\n",
              "        text-align: right;\n",
              "    }\n",
              "</style>\n",
              "<table border=\"1\" class=\"dataframe\">\n",
              "  <thead>\n",
              "    <tr style=\"text-align: right;\">\n",
              "      <th></th>\n",
              "      <th>date</th>\n",
              "      <th>0</th>\n",
              "      <th>1</th>\n",
              "      <th>2</th>\n",
              "      <th>3</th>\n",
              "      <th>4</th>\n",
              "      <th>5</th>\n",
              "      <th>6</th>\n",
              "      <th>7</th>\n",
              "      <th>8</th>\n",
              "      <th>9</th>\n",
              "      <th>10</th>\n",
              "      <th>11</th>\n",
              "      <th>12</th>\n",
              "      <th>13</th>\n",
              "      <th>14</th>\n",
              "      <th>15</th>\n",
              "      <th>16</th>\n",
              "      <th>17</th>\n",
              "      <th>18</th>\n",
              "      <th>tweet_id</th>\n",
              "      <th>link</th>\n",
              "    </tr>\n",
              "  </thead>\n",
              "  <tbody>\n",
              "    <tr>\n",
              "      <th>0</th>\n",
              "      <td>2021-07-25</td>\n",
              "      <td>9,683</td>\n",
              "      <td>844,541</td>\n",
              "      <td>83.3</td>\n",
              "      <td>17,045</td>\n",
              "      <td>1,013,438</td>\n",
              "      <td>160,903</td>\n",
              "      <td>17,039</td>\n",
              "      <td>13,169</td>\n",
              "      <td>3,870</td>\n",
              "      <td>6</td>\n",
              "      <td>4</td>\n",
              "      <td>2</td>\n",
              "      <td>92</td>\n",
              "      <td>90</td>\n",
              "      <td>2</td>\n",
              "      <td>7,994</td>\n",
              "      <td>0.79</td>\n",
              "      <td>970</td>\n",
              "      <td>501</td>\n",
              "      <td>1419249023509098497</td>\n",
              "      <td>t.co/t1ZtOUr683</td>\n",
              "    </tr>\n",
              "  </tbody>\n",
              "</table>\n",
              "</div>"
            ],
            "text/plain": [
              "        date      0        1  ...   18             tweet_id             link\n",
              "0 2021-07-25  9,683  844,541  ...  501  1419249023509098497  t.co/t1ZtOUr683\n",
              "\n",
              "[1 rows x 22 columns]"
            ]
          },
          "metadata": {
            "tags": []
          },
          "execution_count": 19
        }
      ]
    },
    {
      "cell_type": "code",
      "metadata": {
        "id": "69wq-0vuDgGg"
      },
      "source": [
        "from google.colab import auth\n",
        "auth.authenticate_user()\n",
        "\n",
        "import gspread\n",
        "from oauth2client.client import GoogleCredentials\n",
        "\n",
        "gc = gspread.authorize(GoogleCredentials.get_application_default())"
      ],
      "execution_count": null,
      "outputs": []
    },
    {
      "cell_type": "code",
      "metadata": {
        "id": "zo9ZdP4CDgGh"
      },
      "source": [
        "from gspread_dataframe import get_as_dataframe, set_with_dataframe\n",
        "\n",
        "sh = gc.open('malaysia covid dataset -- link tableau')\n",
        "worksheet = sh.worksheet('case data')\n",
        "\n",
        "def get_next_lastrow(worksheet):\n",
        "  str_lst = list(filter(None, worksheet.col_values(1)))\n",
        "  return str(len(str_lst)+1)\n",
        "  \n",
        "next_lastrow = int(get_next_lastrow(worksheet))\n",
        "\n",
        "set_with_dataframe(worksheet, df, row=next_lastrow, col=1, include_index=False, include_column_header=False)"
      ],
      "execution_count": null,
      "outputs": []
    },
    {
      "cell_type": "markdown",
      "metadata": {
        "id": "_sywxJRaIaH2"
      },
      "source": [
        "# wget"
      ]
    },
    {
      "cell_type": "code",
      "metadata": {
        "id": "FuSquZo9VI6j"
      },
      "source": [
        "# from google.colab import drive\n",
        "# drive.mount('/content/drive')"
      ],
      "execution_count": null,
      "outputs": []
    },
    {
      "cell_type": "code",
      "metadata": {
        "id": "VCnAn_ANU0qz",
        "colab": {
          "base_uri": "https://localhost:8080/"
        },
        "outputId": "0700e940-acdf-4653-aea0-2e3b5126fe7e"
      },
      "source": [
        "from PIL import Image\n",
        "from datetime import date\n",
        "\n",
        "today = str(date.today())    # '2020-06-31'\n",
        "yyyymmdd = today.split('-')  # ['2021', '06', '31']\n",
        "\n",
        "dd = yyyymmdd[2]\n",
        "mm = yyyymmdd[1]\n",
        "ddmm = '{}{}'.format(yyyymmdd[2],yyyymmdd[1])\n",
        "\n",
        "# 'https://covid-19.moh.gov.my/user/pages/02.terkini/01.2021/06.06/situasi-terkini-covid-19-di-malaysia-09062021/taburankes-all.jpg'\n",
        "# 'https://covid-19.moh.gov.my/user/pages/02.terkini/01.2021/06.06/situasi-terkini-covid-19-di-malaysia-08062021/taburankes-all.jpg'\n",
        "# 'https://covid-19.moh.gov.my/user/pages/02.terkini/01.2021/07.07/situasi-terkini-covid-19-di-malaysia-01072021/taburankes-all.jpg'\n",
        "\n",
        "\n",
        "url = 'https://covid-19.moh.gov.my/user/pages/02.terkini/01.2021/{}.{}/situasi-terkini-covid-19-di-malaysia-{}2021/taburankes-all.jpg'.format(mm, mm, ddmm)\n",
        "\n",
        "!wget -P './' {url}    # -O name.jpg"
      ],
      "execution_count": null,
      "outputs": [
        {
          "output_type": "stream",
          "text": [
            "--2021-07-25 11:51:22--  https://covid-19.moh.gov.my/user/pages/02.terkini/01.2021/07.07/situasi-terkini-covid-19-di-malaysia-25072021/taburankes-all.jpg\n",
            "Resolving covid-19.moh.gov.my (covid-19.moh.gov.my)... 45.124.98.9\n",
            "Connecting to covid-19.moh.gov.my (covid-19.moh.gov.my)|45.124.98.9|:443... connected.\n",
            "HTTP request sent, awaiting response... 200 OK\n",
            "Length: 710579 (694K) [image/jpeg]\n",
            "Saving to: ‘./taburankes-all.jpg’\n",
            "\n",
            "taburankes-all.jpg  100%[===================>] 693.92K   374KB/s    in 1.9s    \n",
            "\n",
            "2021-07-25 11:51:26 (374 KB/s) - ‘./taburankes-all.jpg’ saved [710579/710579]\n",
            "\n"
          ],
          "name": "stdout"
        }
      ]
    },
    {
      "cell_type": "code",
      "metadata": {
        "id": "we5kP3YNWEqk"
      },
      "source": [
        "try: \n",
        "  img = Image.open('./taburankes-all.jpg')\n",
        "  img.verify()\n",
        "  img_name = '{}-{}-2021'.format(dd,mm)\n",
        "  # img_name = text.partition('malaysia-')[2].partition(\"/taburankes-all\")[0]\n",
        "  !mv \"taburankes-all.jpg\" {img_name}.jpg\n",
        "  !cp {img_name}.jpg \"/content/drive/MyDrive/covid taburan kes\"\n",
        "  with open(\"/content/drive/MyDrive/covid taburan kes/taburan kes.txt\", \"a\") as f:\n",
        "    f.write(\"{},{}\\n\".format(today,url))\n",
        "except (IOError, SyntaxError) as e:\n",
        "  print('Bad file') "
      ],
      "execution_count": null,
      "outputs": []
    }
  ]
}