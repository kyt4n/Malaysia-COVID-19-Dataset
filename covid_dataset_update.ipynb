{
  "nbformat": 4,
  "nbformat_minor": 0,
  "metadata": {
    "colab": {
      "name": "covid dataset update.ipynb",
      "provenance": [],
      "collapsed_sections": [],
      "mount_file_id": "1d6N9jisHikF8Fc2eYYx-uUd10JsNTKCe",
      "authorship_tag": "ABX9TyPuW/hI+qTaVrzEw2XSrRV3",
      "include_colab_link": true
    },
    "kernelspec": {
      "name": "python3",
      "display_name": "Python 3"
    },
    "language_info": {
      "name": "python"
    }
  },
  "cells": [
    {
      "cell_type": "markdown",
      "metadata": {
        "id": "view-in-github",
        "colab_type": "text"
      },
      "source": [
        "<a href=\"https://colab.research.google.com/github/kyt4n/Malaysia-COVID-19-Dataset/blob/main/covid_dataset_update.ipynb\" target=\"_parent\"><img src=\"https://colab.research.google.com/assets/colab-badge.svg\" alt=\"Open In Colab\"/></a>"
      ]
    },
    {
      "cell_type": "markdown",
      "metadata": {
        "id": "OluXWrhhDMnM"
      },
      "source": [
        "# Update Case Data"
      ]
    },
    {
      "cell_type": "code",
      "metadata": {
        "id": "k_CRH9OIDjZB"
      },
      "source": [
        "!pip install --upgrade -q gspread "
      ],
      "execution_count": 1,
      "outputs": []
    },
    {
      "cell_type": "code",
      "metadata": {
        "id": "HnQz-nFzapad"
      },
      "source": [
        "# import os\n",
        "# os.kill(os.getpid(), 9)"
      ],
      "execution_count": null,
      "outputs": []
    },
    {
      "cell_type": "code",
      "metadata": {
        "id": "PwIJRz3xDgGU"
      },
      "source": [
        "import json\n",
        "import tweepy\n",
        "import pandas as pd\n",
        "import re\n",
        "\n",
        "with open(\"twitter_creds.json\", \"r\") as file:\n",
        "  creds = json.load(file)\n",
        "\n",
        "auth = tweepy.OAuthHandler(creds['api_key'], creds['api_sec'])\n",
        "auth.set_access_token(creds['access_token'], creds['access_sec'])\n",
        "api = tweepy.API(auth, wait_on_rate_limit=True)\n",
        "\n",
        "username = '@DGHisham'\n",
        "count = 300\n",
        "tweet_id = '1416349238192009223'\n",
        "\n",
        "tweets = tweepy.Cursor(api.user_timeline,id=username, tweet_mode=\"extended\", since_id = tweet_id,\n",
        "                       include_rts=False, exclude_replies=True).items(count)\n",
        "tweets_lst = [[tweet.created_at, tweet.full_text.replace('\\n', ' '), tweet.id] for tweet in tweets]\n",
        "\n",
        "cols = \"date text tweet_id\".split()\n",
        "tweets_df = pd.DataFrame(tweets_lst, columns=cols)"
      ],
      "execution_count": 1,
      "outputs": []
    },
    {
      "cell_type": "code",
      "metadata": {
        "colab": {
          "base_uri": "https://localhost:8080/",
          "height": 297
        },
        "id": "P4tsyCbNcbnp",
        "outputId": "40cbf96e-7b84-4ff0-9634-a534cadd9767"
      },
      "source": [
        "tweets_df.head(4).append(tweets_df.tail(4))"
      ],
      "execution_count": 2,
      "outputs": [
        {
          "output_type": "execute_result",
          "data": {
            "text/html": [
              "<div>\n",
              "<style scoped>\n",
              "    .dataframe tbody tr th:only-of-type {\n",
              "        vertical-align: middle;\n",
              "    }\n",
              "\n",
              "    .dataframe tbody tr th {\n",
              "        vertical-align: top;\n",
              "    }\n",
              "\n",
              "    .dataframe thead th {\n",
              "        text-align: right;\n",
              "    }\n",
              "</style>\n",
              "<table border=\"1\" class=\"dataframe\">\n",
              "  <thead>\n",
              "    <tr style=\"text-align: right;\">\n",
              "      <th></th>\n",
              "      <th>date</th>\n",
              "      <th>text</th>\n",
              "      <th>tweet_id</th>\n",
              "    </tr>\n",
              "  </thead>\n",
              "  <tbody>\n",
              "    <tr>\n",
              "      <th>0</th>\n",
              "      <td>2021-07-19 11:13:17</td>\n",
              "      <td>Kenyataan Akhbar KPK 19 Julai 2021 – Situasi S...</td>\n",
              "      <td>1417080095231991808</td>\n",
              "    </tr>\n",
              "    <tr>\n",
              "      <th>1</th>\n",
              "      <td>2021-07-19 10:36:28</td>\n",
              "      <td>COVID-19: 19 Julai 2021  J kes sembuh:6,439 J ...</td>\n",
              "      <td>1417070830656262147</td>\n",
              "    </tr>\n",
              "    <tr>\n",
              "      <th>2</th>\n",
              "      <td>2021-07-19 10:10:26</td>\n",
              "      <td>A total of 245,983 healthcare workers have bee...</td>\n",
              "      <td>1417064280847917058</td>\n",
              "    </tr>\n",
              "    <tr>\n",
              "      <th>3</th>\n",
              "      <td>2021-07-19 09:05:30</td>\n",
              "      <td>10,972 kes hari ini (19 Julai 2021): Kategori ...</td>\n",
              "      <td>1417047939445231620</td>\n",
              "    </tr>\n",
              "    <tr>\n",
              "      <th>12</th>\n",
              "      <td>2021-07-18 07:10:14</td>\n",
              "      <td>Sehingga 18 Julai 2021: Jumlah kes COVID-19 ya...</td>\n",
              "      <td>1416656541927677953</td>\n",
              "    </tr>\n",
              "    <tr>\n",
              "      <th>13</th>\n",
              "      <td>2021-07-17 14:01:43</td>\n",
              "      <td>Terkini 17Julai 2021, dikongsikan status progr...</td>\n",
              "      <td>1416397705740316681</td>\n",
              "    </tr>\n",
              "    <tr>\n",
              "      <th>14</th>\n",
              "      <td>2021-07-17 13:52:29</td>\n",
              "      <td>Kadar kebolehjangkitan Covid-19 atau Ro/Rt pad...</td>\n",
              "      <td>1416395385828827141</td>\n",
              "    </tr>\n",
              "    <tr>\n",
              "      <th>15</th>\n",
              "      <td>2021-07-17 11:26:10</td>\n",
              "      <td>Kenyataan Akhbar KPK 17 Julai 2021 – Situasi S...</td>\n",
              "      <td>1416358561169485831</td>\n",
              "    </tr>\n",
              "  </tbody>\n",
              "</table>\n",
              "</div>"
            ],
            "text/plain": [
              "                  date  ...             tweet_id\n",
              "0  2021-07-19 11:13:17  ...  1417080095231991808\n",
              "1  2021-07-19 10:36:28  ...  1417070830656262147\n",
              "2  2021-07-19 10:10:26  ...  1417064280847917058\n",
              "3  2021-07-19 09:05:30  ...  1417047939445231620\n",
              "12 2021-07-18 07:10:14  ...  1416656541927677953\n",
              "13 2021-07-17 14:01:43  ...  1416397705740316681\n",
              "14 2021-07-17 13:52:29  ...  1416395385828827141\n",
              "15 2021-07-17 11:26:10  ...  1416358561169485831\n",
              "\n",
              "[8 rows x 3 columns]"
            ]
          },
          "metadata": {
            "tags": []
          },
          "execution_count": 2
        }
      ]
    },
    {
      "cell_type": "code",
      "metadata": {
        "id": "92ox8qa3cnHV"
      },
      "source": [
        "bool_rel_idx = tweets_df.text.str.contains('terkini covid|^COVID-19[:;]', regex=True, case=False)\n",
        "bool_nonrel_idx = tweets_df.text.str.contains('negeri|kluster|vaccin|vaksin', regex=True, case=False)\n",
        "tweets_df = tweets_df[bool_rel_idx]\n",
        "tweets_df = tweets_df.loc[~bool_nonrel_idx, :]    # without copying   # ~ invert boolean, subset exclude [non relevant rows idx] [false]\n",
        "\n",
        "tweets_df = tweets_df[::-1].reset_index(drop=True)     # reorder rows  # reset index\n",
        "#tweets_df['date'] = pd.to_datetime(tweets_df['date']).dt.date\n",
        "tweets_df['date'] = pd.to_datetime(tweets_df['date'].dt.date)\n",
        "tweets_df[['text','link']] = tweets_df['text'].str.split('https://', expand=True)"
      ],
      "execution_count": 3,
      "outputs": []
    },
    {
      "cell_type": "code",
      "metadata": {
        "id": "YYd68eLysMQl"
      },
      "source": [
        "# tweets_df['text'].iloc[0]"
      ],
      "execution_count": 4,
      "outputs": []
    },
    {
      "cell_type": "code",
      "metadata": {
        "colab": {
          "base_uri": "https://localhost:8080/",
          "height": 111
        },
        "id": "2_yb66GvcqkX",
        "outputId": "1f7a41d9-edc9-4513-bcea-05d3ef2f5461"
      },
      "source": [
        "tweets_df"
      ],
      "execution_count": 5,
      "outputs": [
        {
          "output_type": "execute_result",
          "data": {
            "text/html": [
              "<div>\n",
              "<style scoped>\n",
              "    .dataframe tbody tr th:only-of-type {\n",
              "        vertical-align: middle;\n",
              "    }\n",
              "\n",
              "    .dataframe tbody tr th {\n",
              "        vertical-align: top;\n",
              "    }\n",
              "\n",
              "    .dataframe thead th {\n",
              "        text-align: right;\n",
              "    }\n",
              "</style>\n",
              "<table border=\"1\" class=\"dataframe\">\n",
              "  <thead>\n",
              "    <tr style=\"text-align: right;\">\n",
              "      <th></th>\n",
              "      <th>date</th>\n",
              "      <th>text</th>\n",
              "      <th>tweet_id</th>\n",
              "      <th>link</th>\n",
              "    </tr>\n",
              "  </thead>\n",
              "  <tbody>\n",
              "    <tr>\n",
              "      <th>0</th>\n",
              "      <td>2021-07-18</td>\n",
              "      <td>COVID-19: 18 Julai 2021  J kes sembuh: 5,778 J...</td>\n",
              "      <td>1416708430773899268</td>\n",
              "      <td>t.co/fGSlNpO4b4</td>\n",
              "    </tr>\n",
              "    <tr>\n",
              "      <th>1</th>\n",
              "      <td>2021-07-19</td>\n",
              "      <td>COVID-19: 19 Julai 2021  J kes sembuh:6,439 J ...</td>\n",
              "      <td>1417070830656262147</td>\n",
              "      <td>t.co/HSEnf9pkm8</td>\n",
              "    </tr>\n",
              "  </tbody>\n",
              "</table>\n",
              "</div>"
            ],
            "text/plain": [
              "        date  ...             link\n",
              "0 2021-07-18  ...  t.co/fGSlNpO4b4\n",
              "1 2021-07-19  ...  t.co/HSEnf9pkm8\n",
              "\n",
              "[2 rows x 4 columns]"
            ]
          },
          "metadata": {
            "tags": []
          },
          "execution_count": 5
        }
      ]
    },
    {
      "cell_type": "code",
      "metadata": {
        "id": "FytxY8nDDgGc"
      },
      "source": [
        "lst_df = []\n",
        "\n",
        "for i in range(len(tweets_df)):\n",
        "  text = tweets_df.loc[i,'text']\n",
        "  \n",
        "  lst_tweet = re.findall(r\"[0-9]+[,.]?[0-9]*\", text)\n",
        "  lst_col0_8 = lst_tweet[3:12]        # elemnt 4 until 12  # total 9  \n",
        "  lst_col17_20 = lst_tweet[-4:]\n",
        "\n",
        "  importcase = re.search(r\"(import)(.*?)(J)\", text, re.IGNORECASE).group(0)                     # we only know something is in it\n",
        "  import_total = re.search(r\"[0-9]+\", importcase).group(0)                                      # get the first number  # total \n",
        "  if import_total != '0':                                                                       # if not 0 \n",
        "    import_wn_re = re.search(r\"([0-9]+)(?:\\s?)(?:WN)\", importcase, re.IGNORECASE)\n",
        "    import_bwn_re = re.search(r\"([0-9]+)(?:\\s?)(?:BWN)\", importcase, re.IGNORECASE)\n",
        "    if import_wn_re is not None:\n",
        "      import_wn = import_wn_re.group(1)\n",
        "      if import_bwn_re is None:\n",
        "        import_bwn = str(int(import_total) - int(import_wn))\n",
        "    if import_bwn_re is not None:\n",
        "      import_bwn = import_bwn_re.group(1)\n",
        "      if import_wn_re is None:\n",
        "        import_wn = str(int(import_total) - int(import_bwn)) \n",
        "    if import_wn_re == import_bwn_re == None:\n",
        "      import_wn = import_bwn = '' \n",
        "  else: import_total = import_wn = import_bwn = '0'\n",
        "\n",
        "\n",
        "  maticase = re.search(r\"(mati|fataliti)(.*?)(J)\", text, re.IGNORECASE).group(0)                 # we only know something is in it\n",
        "  mati_total = re.search(r\"[0-9]+\", maticase).group(0)                                           # get the first number  # total \n",
        "  if import_total != '0':                                                                        # if not 0 \n",
        "    mati_wn_re = re.search(r\"([0-9]+)(?:\\s?)(?:WN)\", maticase, re.IGNORECASE)\n",
        "    mati_bwn_re = re.search(r\"([0-9]+)(?:\\s?)(?:BWN)\", maticase, re.IGNORECASE)\n",
        "    if mati_wn_re is not None:\n",
        "      mati_wn = mati_wn_re.group(1)\n",
        "      if mati_bwn_re is None:\n",
        "        mati_bwn = str(int(mati_total) - int(mati_wn))\n",
        "    if mati_bwn_re is not None:\n",
        "      mati_bwn = mati_bwn_re.group(1)\n",
        "      if mati_wn_re is None:\n",
        "        mati_wn = str(int(mati_total) - int(mati_bwn)) \n",
        "    if mati_wn_re == mati_bwn_re == None:\n",
        "      mati_wn = mati_bwn = '' \n",
        "  else: mati_total = mati_wn = mati_bwn = '0'\n",
        "\n",
        "  lst_col9_15 = [import_total, import_wn, import_bwn, mati_total, mati_wn, mati_bwn]\n",
        "\n",
        "  lst_cols = lst_col0_8 + lst_col9_15 + lst_col17_20\n",
        "  lst_df.append(lst_cols)"
      ],
      "execution_count": 6,
      "outputs": []
    },
    {
      "cell_type": "code",
      "metadata": {
        "id": "VU7BGdW0DgGf",
        "colab": {
          "base_uri": "https://localhost:8080/",
          "height": 145
        },
        "outputId": "970d87ea-3610-4de4-b75f-d4d131b5d5ca"
      },
      "source": [
        "df = pd.DataFrame(lst_df)\n",
        "df.insert(0, 'date', tweets_df['date']) \n",
        "df['tweet_id'] = tweets_df['tweet_id']\n",
        "df['link'] = tweets_df['link']\n",
        "df"
      ],
      "execution_count": 7,
      "outputs": [
        {
          "output_type": "execute_result",
          "data": {
            "text/html": [
              "<div>\n",
              "<style scoped>\n",
              "    .dataframe tbody tr th:only-of-type {\n",
              "        vertical-align: middle;\n",
              "    }\n",
              "\n",
              "    .dataframe tbody tr th {\n",
              "        vertical-align: top;\n",
              "    }\n",
              "\n",
              "    .dataframe thead th {\n",
              "        text-align: right;\n",
              "    }\n",
              "</style>\n",
              "<table border=\"1\" class=\"dataframe\">\n",
              "  <thead>\n",
              "    <tr style=\"text-align: right;\">\n",
              "      <th></th>\n",
              "      <th>date</th>\n",
              "      <th>0</th>\n",
              "      <th>1</th>\n",
              "      <th>2</th>\n",
              "      <th>3</th>\n",
              "      <th>4</th>\n",
              "      <th>5</th>\n",
              "      <th>6</th>\n",
              "      <th>7</th>\n",
              "      <th>8</th>\n",
              "      <th>9</th>\n",
              "      <th>10</th>\n",
              "      <th>11</th>\n",
              "      <th>12</th>\n",
              "      <th>13</th>\n",
              "      <th>14</th>\n",
              "      <th>15</th>\n",
              "      <th>16</th>\n",
              "      <th>17</th>\n",
              "      <th>18</th>\n",
              "      <th>tweet_id</th>\n",
              "      <th>link</th>\n",
              "    </tr>\n",
              "  </thead>\n",
              "  <tbody>\n",
              "    <tr>\n",
              "      <th>0</th>\n",
              "      <td>2021-07-18</td>\n",
              "      <td>5,778</td>\n",
              "      <td>784,949</td>\n",
              "      <td>85.6</td>\n",
              "      <td>10,710</td>\n",
              "      <td>916,561</td>\n",
              "      <td>124,593</td>\n",
              "      <td>10,698</td>\n",
              "      <td>8,579</td>\n",
              "      <td>2,119</td>\n",
              "      <td>12</td>\n",
              "      <td>6</td>\n",
              "      <td>6</td>\n",
              "      <td>153</td>\n",
              "      <td>125</td>\n",
              "      <td>28</td>\n",
              "      <td>7,019</td>\n",
              "      <td>0.77</td>\n",
              "      <td>909</td>\n",
              "      <td>445</td>\n",
              "      <td>1416708430773899268</td>\n",
              "      <td>t.co/fGSlNpO4b4</td>\n",
              "    </tr>\n",
              "    <tr>\n",
              "      <th>1</th>\n",
              "      <td>2021-07-19</td>\n",
              "      <td>6,439</td>\n",
              "      <td>791,388</td>\n",
              "      <td>85.3</td>\n",
              "      <td>10,972</td>\n",
              "      <td>927,533</td>\n",
              "      <td>128,997</td>\n",
              "      <td>10,924</td>\n",
              "      <td>8,950</td>\n",
              "      <td>1,974</td>\n",
              "      <td>48</td>\n",
              "      <td>28</td>\n",
              "      <td>20</td>\n",
              "      <td>129</td>\n",
              "      <td>118</td>\n",
              "      <td>11</td>\n",
              "      <td>7,148</td>\n",
              "      <td>0.77</td>\n",
              "      <td>915</td>\n",
              "      <td>435</td>\n",
              "      <td>1417070830656262147</td>\n",
              "      <td>t.co/HSEnf9pkm8</td>\n",
              "    </tr>\n",
              "  </tbody>\n",
              "</table>\n",
              "</div>"
            ],
            "text/plain": [
              "        date      0        1  ...   18             tweet_id             link\n",
              "0 2021-07-18  5,778  784,949  ...  445  1416708430773899268  t.co/fGSlNpO4b4\n",
              "1 2021-07-19  6,439  791,388  ...  435  1417070830656262147  t.co/HSEnf9pkm8\n",
              "\n",
              "[2 rows x 22 columns]"
            ]
          },
          "metadata": {
            "tags": []
          },
          "execution_count": 7
        }
      ]
    },
    {
      "cell_type": "code",
      "metadata": {
        "id": "69wq-0vuDgGg"
      },
      "source": [
        "from google.colab import auth\n",
        "auth.authenticate_user()\n",
        "\n",
        "import gspread\n",
        "from oauth2client.client import GoogleCredentials\n",
        "\n",
        "gc = gspread.authorize(GoogleCredentials.get_application_default())"
      ],
      "execution_count": 8,
      "outputs": []
    },
    {
      "cell_type": "code",
      "metadata": {
        "id": "zo9ZdP4CDgGh"
      },
      "source": [
        "from gspread_dataframe import get_as_dataframe, set_with_dataframe\n",
        "\n",
        "sh = gc.open('malaysia covid dataset -- link tableau')\n",
        "worksheet = sh.worksheet('case data')\n",
        "\n",
        "def get_next_lastrow(worksheet):\n",
        "  str_lst = list(filter(None, worksheet.col_values(1)))\n",
        "  return str(len(str_lst)+1)\n",
        "  \n",
        "next_lastrow = int(get_next_lastrow(worksheet))\n",
        "\n",
        "set_with_dataframe(worksheet, df, row=next_lastrow, col=1, include_index=False, include_column_header=False)"
      ],
      "execution_count": 9,
      "outputs": []
    },
    {
      "cell_type": "markdown",
      "metadata": {
        "id": "_sywxJRaIaH2"
      },
      "source": [
        "# wget"
      ]
    },
    {
      "cell_type": "code",
      "metadata": {
        "id": "FuSquZo9VI6j"
      },
      "source": [
        "# from google.colab import drive\n",
        "# drive.mount('/content/drive')"
      ],
      "execution_count": 10,
      "outputs": []
    },
    {
      "cell_type": "code",
      "metadata": {
        "id": "VCnAn_ANU0qz",
        "colab": {
          "base_uri": "https://localhost:8080/"
        },
        "outputId": "931d48ae-09bc-4db8-c11c-ce4a30884a89"
      },
      "source": [
        "from PIL import Image\n",
        "from datetime import date\n",
        "\n",
        "today = str(date.today())    # '2020-06-31'\n",
        "yyyymmdd = today.split('-')  # ['2021', '06', '31']\n",
        "\n",
        "dd = yyyymmdd[2]\n",
        "mm = yyyymmdd[1]\n",
        "ddmm = '{}{}'.format(yyyymmdd[2],yyyymmdd[1])\n",
        "\n",
        "# 'http://covid-19.moh.gov.my/user/pages/02.terkini/01.2021/06.06/situasi-terkini-covid-19-di-malaysia-09062021/taburankes-all.jpg'\n",
        "# 'http://covid-19.moh.gov.my/user/pages/02.terkini/01.2021/06.06/situasi-terkini-covid-19-di-malaysia-08062021/taburankes-all.jpg'\n",
        "# 'http://covid-19.moh.gov.my/user/pages/02.terkini/01.2021/07.07/situasi-terkini-covid-19-di-malaysia-01072021/taburankes-all.jpg'\n",
        "\n",
        "\n",
        "url = 'http://covid-19.moh.gov.my/user/pages/02.terkini/01.2021/{}.{}/situasi-terkini-covid-19-di-malaysia-{}2021/taburankes-all.jpg'.format(mm, mm, ddmm)\n",
        "\n",
        "!wget -P './' {url}    # -O name.jpg"
      ],
      "execution_count": 14,
      "outputs": [
        {
          "output_type": "stream",
          "text": [
            "--2021-07-19 12:40:40--  http://covid-19.moh.gov.my/user/pages/02.terkini/01.2021/07.07/situasi-terkini-covid-19-di-malaysia-19072021/taburankes-all.jpg\n",
            "Resolving covid-19.moh.gov.my (covid-19.moh.gov.my)... 45.124.98.9\n",
            "Connecting to covid-19.moh.gov.my (covid-19.moh.gov.my)|45.124.98.9|:80... connected.\n",
            "HTTP request sent, awaiting response... 200 OK\n",
            "Length: 1359706 (1.3M) [image/jpeg]\n",
            "Saving to: ‘./taburankes-all.jpg.1’\n",
            "\n",
            "taburankes-all.jpg. 100%[===================>]   1.30M   255KB/s    in 5.2s    \n",
            "\n",
            "2021-07-19 12:40:46 (255 KB/s) - ‘./taburankes-all.jpg.1’ saved [1359706/1359706]\n",
            "\n"
          ],
          "name": "stdout"
        }
      ]
    },
    {
      "cell_type": "code",
      "metadata": {
        "id": "we5kP3YNWEqk"
      },
      "source": [
        "try: \n",
        "  img = Image.open('./taburankes-all.jpg')\n",
        "  img.verify()\n",
        "  img_name = '{}-{}-2021'.format(dd,mm)\n",
        "  # img_name = text.partition('malaysia-')[2].partition(\"/taburankes-all\")[0]\n",
        "  !mv \"taburankes-all.jpg\" {img_name}.jpg\n",
        "  !cp {img_name}.jpg \"/content/drive/MyDrive/covid taburan kes\"\n",
        "  with open(\"/content/drive/MyDrive/covid taburan kes/taburan kes.txt\", \"a\") as f:\n",
        "    f.write(\"{},{}\\n\".format(today,url))\n",
        "except (IOError, SyntaxError) as e:\n",
        "  print('Bad file') "
      ],
      "execution_count": 15,
      "outputs": []
    }
  ]
}